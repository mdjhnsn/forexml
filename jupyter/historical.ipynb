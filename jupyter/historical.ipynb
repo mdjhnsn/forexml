{
 "cells": [
  {
   "cell_type": "code",
   "execution_count": 113,
   "metadata": {},
   "outputs": [],
   "source": [
    "%matplotlib inline\n",
    "import json\n",
    "import oandapyV20\n",
    "import oandapyV20.endpoints.instruments as instruments\n",
    "\n",
    "import matplotlib.pyplot as plt\n",
    "import numpy as np\n",
    "import pandas as pd\n",
    "import seaborn as sns\n",
    "\n",
    "from oandapyV20.contrib.factories import InstrumentsCandlesFactory\n",
    "from myauth import myauth"
   ]
  },
  {
   "cell_type": "code",
   "execution_count": 25,
   "metadata": {},
   "outputs": [],
   "source": [
    "accountID, access_token = myauth.myAuth()\n",
    "client = oandapyV20.API(access_token=access_token)"
   ]
  },
  {
   "cell_type": "code",
   "execution_count": 134,
   "metadata": {},
   "outputs": [],
   "source": [
    "instrument = \"EUR_USD\"\n",
    "params = {\n",
    "    \"from\": \"2019-01-16T22:00:00Z\",\n",
    "    \"to\":   \"2019-01-17T22:00:00Z\",\n",
    "    \"granularity\": \"S15\",\n",
    "    \"includeFirst\": True,\n",
    "#     \"count\": 2,\n",
    "}"
   ]
  },
  {
   "cell_type": "markdown",
   "metadata": {},
   "source": [
    "r = instruments.InstrumentsCandles(instrument=instrument, params=params)\n",
    "response = client.request(r)\n",
    "print(\"Request: {}  #candles received: {}\".format(r, len(r.response.get('candles'))))\n",
    "print(json.dumps(response, indent=2))"
   ]
  },
  {
   "cell_type": "code",
   "execution_count": 136,
   "metadata": {},
   "outputs": [],
   "source": [
    "def cnv(r, h):\n",
    "    # get all candles from the response and write them as a record to the filehandle h\n",
    "    for candle in r.get('candles'):\n",
    "        ctime = candle.get('time')[0:19]\n",
    "        try:\n",
    "            rec = \"{time},{complete},{o},{h},{l},{c},{v}\".format(\n",
    "                time=ctime,\n",
    "                complete=candle['complete'],\n",
    "                o=candle['mid']['o'],\n",
    "                h=candle['mid']['h'],\n",
    "                l=candle['mid']['l'],\n",
    "                c=candle['mid']['c'],\n",
    "                v=candle['volume'],\n",
    "            )\n",
    "        except Exception as e:\n",
    "            print(e, r)\n",
    "        else:\n",
    "            h.write(rec+\"\\n\")"
   ]
  },
  {
   "cell_type": "code",
   "execution_count": 137,
   "metadata": {},
   "outputs": [
    {
     "name": "stdout",
     "output_type": "stream",
     "text": [
      "REQUEST: v3/instruments/EUR_USD/candles InstrumentsCandles {'granularity': 'S15', 'includeFirst': True, 'from': '2019-01-16T22:00:00Z', 'to': '2019-01-17T00:05:00Z'}, received: 231\n",
      "REQUEST: v3/instruments/EUR_USD/candles InstrumentsCandles {'granularity': 'S15', 'includeFirst': True, 'from': '2019-01-17T00:05:00Z', 'to': '2019-01-17T02:10:00Z'}, received: 301\n",
      "REQUEST: v3/instruments/EUR_USD/candles InstrumentsCandles {'granularity': 'S15', 'includeFirst': True, 'from': '2019-01-17T02:10:00Z', 'to': '2019-01-17T04:15:00Z'}, received: 300\n",
      "REQUEST: v3/instruments/EUR_USD/candles InstrumentsCandles {'granularity': 'S15', 'includeFirst': True, 'from': '2019-01-17T04:15:00Z', 'to': '2019-01-17T06:20:00Z'}, received: 303\n",
      "REQUEST: v3/instruments/EUR_USD/candles InstrumentsCandles {'granularity': 'S15', 'includeFirst': True, 'from': '2019-01-17T06:20:00Z', 'to': '2019-01-17T08:25:00Z'}, received: 438\n",
      "REQUEST: v3/instruments/EUR_USD/candles InstrumentsCandles {'granularity': 'S15', 'includeFirst': True, 'from': '2019-01-17T08:25:00Z', 'to': '2019-01-17T10:30:00Z'}, received: 474\n",
      "REQUEST: v3/instruments/EUR_USD/candles InstrumentsCandles {'granularity': 'S15', 'includeFirst': True, 'from': '2019-01-17T10:30:00Z', 'to': '2019-01-17T12:35:00Z'}, received: 440\n",
      "REQUEST: v3/instruments/EUR_USD/candles InstrumentsCandles {'granularity': 'S15', 'includeFirst': True, 'from': '2019-01-17T12:35:00Z', 'to': '2019-01-17T14:40:00Z'}, received: 465\n",
      "REQUEST: v3/instruments/EUR_USD/candles InstrumentsCandles {'granularity': 'S15', 'includeFirst': True, 'from': '2019-01-17T14:40:00Z', 'to': '2019-01-17T16:45:00Z'}, received: 489\n",
      "REQUEST: v3/instruments/EUR_USD/candles InstrumentsCandles {'granularity': 'S15', 'includeFirst': True, 'from': '2019-01-17T16:45:00Z', 'to': '2019-01-17T18:50:00Z'}, received: 436\n",
      "REQUEST: v3/instruments/EUR_USD/candles InstrumentsCandles {'granularity': 'S15', 'includeFirst': True, 'from': '2019-01-17T18:50:00Z', 'to': '2019-01-17T20:55:00Z'}, received: 425\n",
      "REQUEST: v3/instruments/EUR_USD/candles InstrumentsCandles {'granularity': 'S15', 'includeFirst': True, 'from': '2019-01-17T20:55:00Z', 'to': '2019-01-17T22:00:00Z'}, received: 116\n",
      "Check the datafile: /tmp/EUR_USD.S15.out under /tmp!, it contains 4418 records\n"
     ]
    }
   ],
   "source": [
    "datafile = \"/tmp/{}.{}.out\".format(instrument, params['granularity'])\n",
    "with open(datafile, \"w\") as O:\n",
    "    n = 0\n",
    "    for r in InstrumentsCandlesFactory(instrument=instrument, params=params):\n",
    "        rv = client.request(r)\n",
    "        cnt = len(r.response.get('candles'))\n",
    "        print(\"REQUEST: {} {} {}, received: {}\".format(r, r.__class__.__name__, r.params, cnt))\n",
    "        n += cnt\n",
    "        cnv(r.response, O)\n",
    "    print(\"Check the datafile: {} under /tmp!, it contains {} records\".format(datafile, n))"
   ]
  },
  {
   "cell_type": "code",
   "execution_count": 140,
   "metadata": {},
   "outputs": [],
   "source": [
    "df = pd.read_csv(filepath_or_buffer='/tmp/EUR_USD.S15.out', names=['time','complete','o','h','l','c','v'])\n",
    "\n",
    "df['time'] = pd.to_datetime(df['time'])\n",
    "df['oc'] = df['c'] - df['o']\n",
    "df['hl'] = df['h'] - df['l']"
   ]
  },
  {
   "cell_type": "code",
   "execution_count": 36,
   "metadata": {},
   "outputs": [],
   "source": [
    "def pcaWeights(cov, riskDist=None, riskTarget=1.):\n",
    "    eVal, eVec = np.linalg.eigh(cov)\n",
    "    indices = eVal.argsort()[::-1]\n",
    "    eVal, eVec = eVal[indices], eVec[:,indices]\n",
    "    if riskDist is None:\n",
    "        riskDist = np.zeros(cov.shape[0])\n",
    "        riskDist[-1] = 1\n",
    "    loads = riskTarget * (riskDist/eVal)\n",
    "    wghts = np.dot(eVec, np.reshape(loads, (-1, 1)))\n",
    "    return wghts"
   ]
  }
 ],
 "metadata": {
  "kernelspec": {
   "display_name": "Python 3",
   "language": "python",
   "name": "python3"
  },
  "language_info": {
   "codemirror_mode": {
    "name": "ipython",
    "version": 3
   },
   "file_extension": ".py",
   "mimetype": "text/x-python",
   "name": "python",
   "nbconvert_exporter": "python",
   "pygments_lexer": "ipython3",
   "version": "3.7.1"
  }
 },
 "nbformat": 4,
 "nbformat_minor": 2
}
